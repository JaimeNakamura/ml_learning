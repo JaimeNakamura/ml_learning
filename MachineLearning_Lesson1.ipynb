{
  "nbformat": 4,
  "nbformat_minor": 0,
  "metadata": {
    "colab": {
      "name": "MachineLearning_Lesson1.ipynb",
      "provenance": [],
      "authorship_tag": "ABX9TyNFjQEbMMVHpY7kSPo3jQnV",
      "include_colab_link": true
    },
    "kernelspec": {
      "name": "python3",
      "display_name": "Python 3"
    }
  },
  "cells": [
    {
      "cell_type": "markdown",
      "metadata": {
        "id": "view-in-github",
        "colab_type": "text"
      },
      "source": [
        "<a href=\"https://colab.research.google.com/github/JaimeNakamura/ml_learning/blob/main/MachineLearning_Lesson1.ipynb\" target=\"_parent\"><img src=\"https://colab.research.google.com/assets/colab-badge.svg\" alt=\"Open In Colab\"/></a>"
      ]
    },
    {
      "cell_type": "markdown",
      "metadata": {
        "id": "5GLqzAx9S096"
      },
      "source": [
        "# Lê a base e verificações iniciais"
      ]
    },
    {
      "cell_type": "code",
      "metadata": {
        "id": "JVSLX2YBm29_"
      },
      "source": [
        "link = \"https://raw.githubusercontent.com/JaimeNakamura/dataset/main/dataset_MedicalCostPersonal/insurance.csv\"\r\n",
        "\r\n",
        "\r\n",
        "import pandas as pd\r\n",
        "\r\n",
        "dados = pd.read_csv(link)\r\n",
        "dados.head(10)"
      ],
      "execution_count": null,
      "outputs": []
    },
    {
      "cell_type": "code",
      "metadata": {
        "id": "H6ilwHV-n0BL"
      },
      "source": [
        "dados.describe()"
      ],
      "execution_count": null,
      "outputs": []
    },
    {
      "cell_type": "code",
      "metadata": {
        "id": "w1SE-8xvn0E5"
      },
      "source": [
        "dados.isnull().value_counts().unstack()"
      ],
      "execution_count": null,
      "outputs": []
    },
    {
      "cell_type": "code",
      "metadata": {
        "id": "cmHdallsn0ID"
      },
      "source": [
        "dados.shape"
      ],
      "execution_count": null,
      "outputs": []
    },
    {
      "cell_type": "markdown",
      "metadata": {
        "id": "TdkepSVyovX2"
      },
      "source": [
        "# EDA Básica"
      ]
    },
    {
      "cell_type": "code",
      "metadata": {
        "id": "vpJyW6nkn0K7",
        "colab": {
          "base_uri": "https://localhost:8080/"
        },
        "outputId": "48a020f8-5336-4382-90ec-fc7557e3652e"
      },
      "source": [
        "#Biblioteca de visualização\r\n",
        "!pip install sweetviz"
      ],
      "execution_count": null,
      "outputs": [
        {
          "output_type": "stream",
          "text": [
            "Collecting sweetviz\n",
            "\u001b[?25l  Downloading https://files.pythonhosted.org/packages/bf/c8/e96d6f6f50ecb2ff57c33aa21ec730db0e60b0a9b685c2904192e5f29cbb/sweetviz-2.0.4-py3-none-any.whl (15.1MB)\n",
            "\u001b[K     |████████████████████████████████| 15.1MB 294kB/s \n",
            "\u001b[?25hRequirement already satisfied: matplotlib>=3.1.3 in /usr/local/lib/python3.6/dist-packages (from sweetviz) (3.2.2)\n",
            "Requirement already satisfied: numpy>=1.16.0 in /usr/local/lib/python3.6/dist-packages (from sweetviz) (1.18.5)\n",
            "Requirement already satisfied: scipy>=1.3.2 in /usr/local/lib/python3.6/dist-packages (from sweetviz) (1.4.1)\n",
            "Requirement already satisfied: importlib-resources>=1.2.0 in /usr/local/lib/python3.6/dist-packages (from sweetviz) (3.3.0)\n",
            "Requirement already satisfied: jinja2>=2.11.1 in /usr/local/lib/python3.6/dist-packages (from sweetviz) (2.11.2)\n",
            "Requirement already satisfied: pandas!=1.0.0,!=1.0.1,!=1.0.2,>=0.25.3 in /usr/local/lib/python3.6/dist-packages (from sweetviz) (1.1.5)\n",
            "Collecting tqdm>=4.43.0\n",
            "\u001b[?25l  Downloading https://files.pythonhosted.org/packages/8a/54/115f0c28a61d56674c3a5e05c46d6c3523ad196e1dcd3e2d8b119026df36/tqdm-4.54.1-py2.py3-none-any.whl (69kB)\n",
            "\u001b[K     |████████████████████████████████| 71kB 5.9MB/s \n",
            "\u001b[?25hRequirement already satisfied: python-dateutil>=2.1 in /usr/local/lib/python3.6/dist-packages (from matplotlib>=3.1.3->sweetviz) (2.8.1)\n",
            "Requirement already satisfied: kiwisolver>=1.0.1 in /usr/local/lib/python3.6/dist-packages (from matplotlib>=3.1.3->sweetviz) (1.3.1)\n",
            "Requirement already satisfied: cycler>=0.10 in /usr/local/lib/python3.6/dist-packages (from matplotlib>=3.1.3->sweetviz) (0.10.0)\n",
            "Requirement already satisfied: pyparsing!=2.0.4,!=2.1.2,!=2.1.6,>=2.0.1 in /usr/local/lib/python3.6/dist-packages (from matplotlib>=3.1.3->sweetviz) (2.4.7)\n",
            "Requirement already satisfied: zipp>=0.4; python_version < \"3.8\" in /usr/local/lib/python3.6/dist-packages (from importlib-resources>=1.2.0->sweetviz) (3.4.0)\n",
            "Requirement already satisfied: MarkupSafe>=0.23 in /usr/local/lib/python3.6/dist-packages (from jinja2>=2.11.1->sweetviz) (1.1.1)\n",
            "Requirement already satisfied: pytz>=2017.2 in /usr/local/lib/python3.6/dist-packages (from pandas!=1.0.0,!=1.0.1,!=1.0.2,>=0.25.3->sweetviz) (2018.9)\n",
            "Requirement already satisfied: six>=1.5 in /usr/local/lib/python3.6/dist-packages (from python-dateutil>=2.1->matplotlib>=3.1.3->sweetviz) (1.15.0)\n",
            "Installing collected packages: tqdm, sweetviz\n",
            "  Found existing installation: tqdm 4.41.1\n",
            "    Uninstalling tqdm-4.41.1:\n",
            "      Successfully uninstalled tqdm-4.41.1\n",
            "Successfully installed sweetviz-2.0.4 tqdm-4.54.1\n"
          ],
          "name": "stdout"
        }
      ]
    },
    {
      "cell_type": "code",
      "metadata": {
        "colab": {
          "base_uri": "https://localhost:8080/",
          "height": 341
        },
        "id": "2it_RMm2n0N1",
        "outputId": "0ead569d-bae7-45b0-a637-0d84df172be1"
      },
      "source": [
        "import sweetviz\r\n",
        "eda= sweetviz.analyze([dados, \"Seguro Saúde\"],target_feat = \"charges\")\r\n",
        "eda.show_html()"
      ],
      "execution_count": null,
      "outputs": [
        {
          "output_type": "error",
          "ename": "ModuleNotFoundError",
          "evalue": "ignored",
          "traceback": [
            "\u001b[0;31m---------------------------------------------------------------------------\u001b[0m",
            "\u001b[0;31mModuleNotFoundError\u001b[0m                       Traceback (most recent call last)",
            "\u001b[0;32m<ipython-input-3-b5c3a0991482>\u001b[0m in \u001b[0;36m<module>\u001b[0;34m()\u001b[0m\n\u001b[0;32m----> 1\u001b[0;31m \u001b[0;32mimport\u001b[0m \u001b[0msweetviz\u001b[0m\u001b[0;34m\u001b[0m\u001b[0;34m\u001b[0m\u001b[0m\n\u001b[0m\u001b[1;32m      2\u001b[0m \u001b[0meda\u001b[0m\u001b[0;34m=\u001b[0m \u001b[0msweetviz\u001b[0m\u001b[0;34m.\u001b[0m\u001b[0manalyze\u001b[0m\u001b[0;34m(\u001b[0m\u001b[0;34m[\u001b[0m\u001b[0mdados\u001b[0m\u001b[0;34m,\u001b[0m \u001b[0;34m\"Seguro Saúde\"\u001b[0m\u001b[0;34m]\u001b[0m\u001b[0;34m,\u001b[0m\u001b[0mtarget_feat\u001b[0m \u001b[0;34m=\u001b[0m \u001b[0;34m\"charges\"\u001b[0m\u001b[0;34m)\u001b[0m\u001b[0;34m\u001b[0m\u001b[0;34m\u001b[0m\u001b[0m\n\u001b[1;32m      3\u001b[0m \u001b[0meda\u001b[0m\u001b[0;34m.\u001b[0m\u001b[0mshow_html\u001b[0m\u001b[0;34m(\u001b[0m\u001b[0;34m)\u001b[0m\u001b[0;34m\u001b[0m\u001b[0;34m\u001b[0m\u001b[0m\n",
            "\u001b[0;31mModuleNotFoundError\u001b[0m: No module named 'sweetviz'",
            "",
            "\u001b[0;31m---------------------------------------------------------------------------\u001b[0;32m\nNOTE: If your import is failing due to a missing package, you can\nmanually install dependencies using either !pip or !apt.\n\nTo view examples of installing some common dependencies, click the\n\"Open Examples\" button below.\n\u001b[0;31m---------------------------------------------------------------------------\u001b[0m\n"
          ]
        }
      ]
    },
    {
      "cell_type": "markdown",
      "metadata": {
        "id": "7ggd9NuVr878"
      },
      "source": [
        "# Algum pré-processamento interessante antes de prosseguir:\r\n",
        "Transformar a variável smoker em 0 (não) ou 1 (sim)\r\n",
        "Colocar a variável resposta na escala para cada mil dolares"
      ]
    },
    {
      "cell_type": "code",
      "metadata": {
        "id": "3pUaSlcOn0Q4"
      },
      "source": [
        "\r\n",
        "dados['smoker'] = dados['smoker'].map({'yes': 1, 'no': 0})\r\n",
        "dados['charges'] = dados['charges']/1000"
      ],
      "execution_count": null,
      "outputs": []
    },
    {
      "cell_type": "markdown",
      "metadata": {
        "id": "5eElsNY7sHi-"
      },
      "source": [
        "Variáveis que vamos considerar na análise, nesse primeiro momento: charges, bmi, smoker."
      ]
    },
    {
      "cell_type": "code",
      "metadata": {
        "id": "yRO4fSiUn0Tp"
      },
      "source": [
        "dados = dados[['bmi', 'smoker', 'charges']]\r\n",
        "dados.head(199)"
      ],
      "execution_count": null,
      "outputs": []
    },
    {
      "cell_type": "markdown",
      "metadata": {
        "id": "sz9kZkdTsQ8P"
      },
      "source": [
        "----\r\n",
        "\r\n",
        "Gráficos pertinentes"
      ]
    },
    {
      "cell_type": "code",
      "metadata": {
        "id": "L52IAs2_n0Wx"
      },
      "source": [
        "import seaborn as sns\r\n",
        "\r\n",
        "sns.scatterplot(x = 'bmi', y = 'charges', data = dados);"
      ],
      "execution_count": null,
      "outputs": []
    },
    {
      "cell_type": "code",
      "metadata": {
        "id": "HjbOuYi8n0Zd"
      },
      "source": [
        "sns.scatterplot(x = 'bmi', y = 'charges', hue = 'smoker', data = dados);"
      ],
      "execution_count": null,
      "outputs": []
    },
    {
      "cell_type": "markdown",
      "metadata": {
        "id": "AjiD58FEsiqC"
      },
      "source": [
        "---\r\n",
        "#Cenário 1: considerando apenas a variável bmi."
      ]
    },
    {
      "cell_type": "code",
      "metadata": {
        "id": "ieP8NuJan0cV"
      },
      "source": [
        "X = dados['bmi'].values.reshape(-1, 1)\r\n",
        "y = dados['charges']"
      ],
      "execution_count": null,
      "outputs": []
    },
    {
      "cell_type": "markdown",
      "metadata": {
        "id": "mI5xA7cCsqSs"
      },
      "source": [
        "\r\n",
        "Preparação para a validação do tipo Holdout"
      ]
    },
    {
      "cell_type": "code",
      "metadata": {
        "id": "8q7TUd9-n0ff"
      },
      "source": [
        "# Holdout\r\n",
        "# Separando em dados teste e treinamento \r\n",
        "\r\n",
        "from sklearn.model_selection import train_test_split \r\n",
        "\r\n",
        "Xtreino, Xteste, ytreino, yteste  = train_test_split(X, y, test_size = 0.25)\r\n",
        "#25% vai para o teste, enquanto 75% vai para o treino\r\n",
        "#Conjunto de dados de 1MM, 50.000 testes é suficiente, ou seja 5%."
      ],
      "execution_count": null,
      "outputs": []
    },
    {
      "cell_type": "code",
      "metadata": {
        "colab": {
          "base_uri": "https://localhost:8080/"
        },
        "id": "IB_LH9jwn0iY",
        "outputId": "bfa7de24-c205-4edc-834b-443d8623c44c"
      },
      "source": [
        "print(Xtreino.shape)\r\n",
        "print(Xteste.shape)"
      ],
      "execution_count": null,
      "outputs": [
        {
          "output_type": "stream",
          "text": [
            "(1003, 1)\n",
            "(335, 1)\n"
          ],
          "name": "stdout"
        }
      ]
    },
    {
      "cell_type": "code",
      "metadata": {
        "colab": {
          "base_uri": "https://localhost:8080/"
        },
        "id": "J0ypgEuQn0lc",
        "outputId": "ee75846a-65ac-4351-80f4-8185e2314b71"
      },
      "source": [
        "# Ajuste do modelo de regressão linear\r\n",
        "from sklearn.linear_model import LinearRegression\r\n",
        "reg = LinearRegression()\r\n",
        "reg.fit(Xtreino, ytreino)"
      ],
      "execution_count": null,
      "outputs": [
        {
          "output_type": "execute_result",
          "data": {
            "text/plain": [
              "LinearRegression(copy_X=True, fit_intercept=True, n_jobs=None, normalize=False)"
            ]
          },
          "metadata": {
            "tags": []
          },
          "execution_count": 12
        }
      ]
    },
    {
      "cell_type": "code",
      "metadata": {
        "colab": {
          "base_uri": "https://localhost:8080/"
        },
        "id": "JEAy2cQXn0oM",
        "outputId": "b1ab7876-3b68-4016-bdd1-514ad3019940"
      },
      "source": [
        "# Predição utilizando a amostra teste\r\n",
        "preditos = reg.predict(Xteste)\r\n",
        "preditos"
      ],
      "execution_count": null,
      "outputs": [
        {
          "output_type": "execute_result",
          "data": {
            "text/plain": [
              "array([ 9.81320598, 12.13603698, 11.6933996 , 14.66394309,  9.80305374,\n",
              "       11.53908565, 13.69948092, 13.07004245, 13.47613178, 11.30761473,\n",
              "       15.39693434, 12.61928328, 13.80100325, 12.73501875, 13.31369605,\n",
              "       12.69644026,  9.07006249, 13.46801   , 13.19186925, 12.5807048 ,\n",
              "       14.81622659, 15.75023206, 14.70252158, 17.67509551, 17.89844465,\n",
              "       11.4456851 , 15.58982677, 13.77663789, 15.53094382, 15.97561164,\n",
              "       11.50050717, 13.08222513, 13.62232394, 14.85683552, 10.840612  ,\n",
              "       11.30761473, 12.15634144, 13.85379486, 17.09032687, 15.6649533 ,\n",
              "       12.88933269, 11.61624263, 15.10048912, 16.42434036, 12.98476369,\n",
              "       17.41519834,  9.41523843, 12.13603698,  9.90254563, 14.58678611,\n",
              "       13.39085302, 19.19386963, 17.98169296, 10.76751591, 12.19491993,\n",
              "       12.70456204, 13.1593821 , 12.89542403, 14.00810881, 18.56849205,\n",
              "       13.92283005, 13.89237335, 11.46192868, 10.65178045, 11.84771355,\n",
              "        9.6487398 , 12.34923388, 15.79896278, 16.0344946 , 14.68221711,\n",
              "       10.25990425, 15.70962313, 15.58779633, 17.27306707, 19.41721876,\n",
              "       15.10048912, 16.0344946 , 14.23551884, 15.26292486, 16.399975  ,\n",
              "       11.42131974, 14.93805339, 13.69948092, 10.45888802, 12.23349842,\n",
              "       14.54820763, 12.04060598,  9.3401119 , 14.23551884, 15.55124829,\n",
              "       13.81521638, 17.009109  , 13.88222112, 12.42639085, 12.38781236,\n",
              "       11.15330078, 16.42434036, 12.07918447, 10.14619923, 10.55228857,\n",
              "       10.26599559, 14.95023607, 14.12384427, 11.61624263, 14.41013725,\n",
              "       16.0344946 , 15.70962313, 12.34923388,  9.07006249, 12.94009386,\n",
              "        9.6182831 , 10.72893743, 10.18883861,  8.72285611, 10.70660251,\n",
              "       13.35227453, 15.62028347, 12.80608438,  9.76447526, 13.19796059,\n",
              "       13.02943351, 10.70660251, 11.6933996 , 12.35938611, 13.16344299,\n",
              "       13.58374546, 13.35430498, 15.28119888, 11.80913506, 14.85683552,\n",
              "       12.31065539, 15.87205886, 14.08526579, 17.13905759,  9.33402056,\n",
              "       14.36952832, 10.38985283, 13.89237335, 10.26599559, 14.04465685,\n",
              "       15.89845467, 17.2872802 , 12.85075421, 14.66394309,  9.72589677,\n",
              "       13.02943351, 16.73702915, 20.35528513, 14.08526579, 12.73501875,\n",
              "       12.58273524, 10.75533323, 11.26903624, 13.89237335, 11.92487052,\n",
              "        9.72386632, 10.9583779 , 15.97561164, 13.51674072, 14.86089642,\n",
              "       17.75022204, 15.83144993, 12.74517098, 15.22231592, 11.57766414,\n",
              "       11.53908565, 17.40301566, 16.6436286 , 19.93295222, 11.12081364,\n",
              "       11.61624263, 11.82334819, 12.31471628, 14.68221711, 12.69644026,\n",
              "       11.12081364, 11.30761473, 14.86089642, 10.72893743, 11.92487052,\n",
              "        9.45584736, 15.93297226, 14.74110006, 12.2720769 , 11.77867836,\n",
              "       11.15330078, 16.11165157,  9.03148401, 13.54516697, 14.36952832,\n",
              "       10.75533323, 13.35227453, 17.75022204, 12.11776296, 12.50354782,\n",
              "       16.11165157, 13.47613178, 11.15330078, 15.01114947, 12.69644026,\n",
              "       14.27815822,  8.87717006, 12.78577991, 14.74110006, 15.42536059,\n",
              "       14.12384427, 15.74414072, 15.84363261, 10.84467289, 10.30457407,\n",
              "       10.11168164, 14.00404792, 13.23247818, 12.42639085, 15.04972796,\n",
              "       10.61320197, 10.8365511 , 13.96953032, 14.81825704, 11.03756532,\n",
              "       14.6253646 , 12.62334418,  9.18579795, 16.51368001,  9.07006249,\n",
              "       10.99898684, 13.39085302, 19.95325668, 12.21725484, 12.46496934,\n",
              "       12.2720769 , 10.57462348, 14.08526579, 13.7380594 , 14.35531519,\n",
              "       11.88629203, 12.35938611, 13.19796059, 12.22537663,  9.18579795,\n",
              "       13.80100325, 15.10048912, 15.57561365, 12.11776296, 13.35227453,\n",
              "       17.13905759, 12.46496934, 11.19187927, 13.35430498, 13.85379486,\n",
              "       16.51571046, 20.26594547, 15.12688493,  8.18275729,  9.37462949,\n",
              "       10.72893743, 19.72990755, 11.36446724, 13.69948092, 19.37254893,\n",
              "       12.73501875, 12.50354782, 14.00810881, 12.5807048 , 13.47613178,\n",
              "       11.65482111, 14.81825704, 15.10048912, 14.65379086, 10.26599559,\n",
              "       13.19796059, 14.16242276, 13.87816022, 13.46801   , 12.04060598,\n",
              "       13.39085302, 10.07310315, 14.74110006, 10.11168164, 13.04364664,\n",
              "       12.19491993, 14.16648365, 13.58374546, 15.30759469, 16.47713197,\n",
              "       13.50658848,  9.99594618, 13.93095184, 11.42335019, 13.08222513,\n",
              "       13.12080361, 18.59285741, 16.0344946 , 12.98882458, 13.50658848,\n",
              "       14.05683953, 13.12080361, 12.42639085, 14.90556624, 10.52792321,\n",
              "       16.78169897, 14.27815822, 14.81622659, 14.35531519, 11.55532923,\n",
              "       14.93805339, 15.08830644, 17.44159414, 17.09032687, 15.57561365,\n",
              "       11.85177444, 15.10048912, 13.1593821 , 13.11877317, 12.23349842,\n",
              "       11.19187927, 10.11168164, 14.95023607, 11.65482111, 16.24566105,\n",
              "       15.62840526, 13.58374546, 18.79184118, 13.87816022, 13.62232394,\n",
              "       17.3177369 , 14.59287745, 14.23957973, 12.61928328, 12.23349842,\n",
              "        8.06702183, 13.71978538, 15.16546342, 12.42029951,  9.53300433])"
            ]
          },
          "metadata": {
            "tags": []
          },
          "execution_count": 13
        }
      ]
    },
    {
      "cell_type": "code",
      "metadata": {
        "colab": {
          "base_uri": "https://localhost:8080/"
        },
        "id": "C6jvsLEc5hV_",
        "outputId": "19c2d34e-a532-4565-f78f-a1c88bd88c86"
      },
      "source": [
        "#Erro entre o preditos e a base de testes\r\n",
        "import numpy as np\r\n",
        "np.mean((preditos - yteste)**2)"
      ],
      "execution_count": null,
      "outputs": [
        {
          "output_type": "execute_result",
          "data": {
            "text/plain": [
              "123.02463885167852"
            ]
          },
          "metadata": {
            "tags": []
          },
          "execution_count": 14
        }
      ]
    },
    {
      "cell_type": "code",
      "metadata": {
        "colab": {
          "base_uri": "https://localhost:8080/"
        },
        "id": "rY2UyReQn0rO",
        "outputId": "589e609e-fa16-40ae-92bf-f32426f3272c"
      },
      "source": [
        "# Erro Quadrático Médio\r\n",
        "from sklearn.metrics import mean_squared_error \r\n",
        "eqm = mean_squared_error(yteste, preditos)\r\n",
        "print('EQM : {}'.format(round(eqm, 2)))"
      ],
      "execution_count": null,
      "outputs": [
        {
          "output_type": "stream",
          "text": [
            "EQM : 123.02\n"
          ],
          "name": "stdout"
        }
      ]
    },
    {
      "cell_type": "code",
      "metadata": {
        "colab": {
          "base_uri": "https://localhost:8080/"
        },
        "id": "42HVeiu1s4u3",
        "outputId": "2f1517dd-967b-449a-eb6c-3b8290d58509"
      },
      "source": [
        "# Coeficientes\r\n",
        "b0 = reg.intercept_\r\n",
        "b1 = reg.coef_\r\n",
        "print('Intercepto: \\n', b0)\r\n",
        "print('Coeficientes: \\n', b1)"
      ],
      "execution_count": null,
      "outputs": [
        {
          "output_type": "stream",
          "text": [
            "Intercepto: \n",
            " 0.9685802493741953\n",
            "Coeficientes: \n",
            " [0.40608934]\n"
          ],
          "name": "stdout"
        }
      ]
    },
    {
      "cell_type": "markdown",
      "metadata": {
        "id": "0fJHe7hMtC4Q"
      },
      "source": [
        "\r\n",
        "Nesse cenário, o modelo de regressão linear é dado por\r\n",
        "\r\n",
        "**CUSTOS = b0 + b1 * IMC**"
      ]
    },
    {
      "cell_type": "code",
      "metadata": {
        "colab": {
          "base_uri": "https://localhost:8080/"
        },
        "id": "fNxzErpjs4yB",
        "outputId": "4e31b276-b199-4835-dbc6-d3d413957c1e"
      },
      "source": [
        "import numpy as np\r\n",
        "\r\n",
        "x = np.arange(15, 55, 0.01)\r\n",
        "y0 = b0 + b1*x\r\n",
        "\r\n",
        "import matplotlib.pyplot as plt\r\n",
        "\r\n",
        "sns.scatterplot(x = 'bmi', y = 'charges', data = dados);\r\n",
        "plt.plot(x, y0, color = 'blue')\r\n",
        "plt.title('Reta de Regressão')\r\n",
        "plt.xlabel('IMC')\r\n",
        "plt.ylabel('Custos')\r\n",
        "plt.show()"
      ],
      "execution_count": null,
      "outputs": [
        {
          "output_type": "display_data",
          "data": {
            "image/png": "[encoded data removed]",
            "text/plain": [
              "<Figure size 432x288 with 1 Axes>"
            ]
          },
          "metadata": {
            "tags": [],
            "needs_background": "light"
          }
        }
      ]
    },
    {
      "cell_type": "markdown",
      "metadata": {
        "id": "1VPJmDuZtNUF"
      },
      "source": [
        "Note agora o que aconteceria se ajustassemos e avaliassemos o modelo no mesmo conjunto de dados (nesse caso, os dados todos)."
      ]
    },
    {
      "cell_type": "code",
      "metadata": {
        "colab": {
          "base_uri": "https://localhost:8080/"
        },
        "id": "VQTikTzgs40k",
        "outputId": "7c24e786-34a1-4622-ffef-b82f50eee669"
      },
      "source": [
        "reg0 = LinearRegression()\r\n",
        "reg0.fit(X, y)\r\n",
        "preditos = reg0.predict(X)\r\n",
        "\r\n",
        "eqm = mean_squared_error(y, preditos)\r\n",
        "print('EQM : {}'.format(round(eqm, 2)))"
      ],
      "execution_count": null,
      "outputs": [
        {
          "output_type": "stream",
          "text": [
            "EQM : 140.78\n"
          ],
          "name": "stdout"
        }
      ]
    },
    {
      "cell_type": "markdown",
      "metadata": {
        "id": "bKMUzssXtP7P"
      },
      "source": [
        "#Cenário 2: considerando a variável bmi e smoker."
      ]
    },
    {
      "cell_type": "code",
      "metadata": {
        "id": "8nFYOmSEs43e"
      },
      "source": [
        "X = dados[['bmi', 'smoker']]\r\n",
        "y = dados['charges']"
      ],
      "execution_count": null,
      "outputs": []
    },
    {
      "cell_type": "code",
      "metadata": {
        "colab": {
          "base_uri": "https://localhost:8080/"
        },
        "id": "9bJ6f-Zos46P",
        "outputId": "3782d65e-137f-410d-cc69-de224bc39db7"
      },
      "source": [
        "Xtreino, Xteste, ytreino, yteste  = train_test_split(X, y, test_size = 0.25)\r\n",
        "#Xtreino, Xteste, ytreino, yteste  = train_test_split(X, y, test_size = propTest,random_state = 12) - Reutiliza os mesmos dados para treino e teste\r\n",
        "reg = LinearRegression()\r\n",
        "reg.fit(Xtreino, ytreino)\r\n",
        "\r\n",
        "preditos = reg.predict(Xteste)\r\n",
        "\r\n",
        "eqm = mean_squared_error(yteste, preditos)\r\n",
        "print('EQM : {}'.format(round(eqm, 2)))"
      ],
      "execution_count": null,
      "outputs": [
        {
          "output_type": "stream",
          "text": [
            "EQM : 46.77\n"
          ],
          "name": "stdout"
        }
      ]
    },
    {
      "cell_type": "code",
      "metadata": {
        "colab": {
          "base_uri": "https://localhost:8080/"
        },
        "id": "lHh1XxCgs48_",
        "outputId": "e07af90d-b71e-4a43-c816-f497fa934be3"
      },
      "source": [
        "# Coeficientes\r\n",
        "b0 = reg.intercept_\r\n",
        "b1, b2 = reg.coef_\r\n",
        "print('Intercepto: \\n',reg.intercept_)\r\n",
        "print('Coeficientes: \\n', reg.coef_)"
      ],
      "execution_count": null,
      "outputs": [
        {
          "output_type": "stream",
          "text": [
            "Intercepto: \n",
            " -4.203142234008142\n",
            "Coeficientes: \n",
            " [ 0.41229526 23.36918627]\n"
          ],
          "name": "stdout"
        }
      ]
    },
    {
      "cell_type": "code",
      "metadata": {
        "id": "wuJ3DECWs4_x"
      },
      "source": [
        "import numpy as np\r\n",
        "\r\n",
        "x = np.arange(15, 55, 0.01)\r\n",
        "y0 = b0 + b1*x + b2*0\r\n",
        "y1 = b0 + b1*x + b2*1"
      ],
      "execution_count": null,
      "outputs": []
    },
    {
      "cell_type": "code",
      "metadata": {
        "colab": {
          "base_uri": "https://localhost:8080/",
          "height": 295
        },
        "id": "29tsk2MZs5Cb",
        "outputId": "ce51f30b-ee47-45f6-beb0-ad75e6005d39"
      },
      "source": [
        "sns.scatterplot(x = 'bmi', y = 'charges', hue = 'smoker', data = dados)\r\n",
        "plt.plot(x, y0, color = 'blue')\r\n",
        "plt.plot(x, y1, color = 'orange')\r\n",
        "plt.title('Retas de Regressão')\r\n",
        "plt.xlabel('IMC')\r\n",
        "plt.ylabel('Custo')\r\n",
        "plt.show()"
      ],
      "execution_count": null,
      "outputs": [
        {
          "output_type": "display_data",
          "data": {
            "image/png": "[encoded data removed]",
            "text/plain": [
              "<Figure size 432x288 with 1 Axes>"
            ]
          },
          "metadata": {
            "tags": [],
            "needs_background": "light"
          }
        }
      ]
    },
    {
      "cell_type": "markdown",
      "metadata": {
        "id": "jYUmdIH7tfej"
      },
      "source": [
        "\r\n",
        "#Exercício\r\n",
        "Faça repetições da técnica Holdout, variando a distribuição de quem vai para amostra de teste e treinamento. Guarde os resultados do EQM para cada repetição e, no final, calcule sua média para obter um valor mais estável para o EQM."
      ]
    },
    {
      "cell_type": "code",
      "metadata": {
        "colab": {
          "base_uri": "https://localhost:8080/"
        },
        "id": "j_UNuQban0tx",
        "outputId": "93816818-9014-4af0-c3f7-c7d624434016"
      },
      "source": [
        "import pandas as pd\r\n",
        "\r\n",
        "lista = []\r\n",
        "repTest = 100\r\n",
        "propTest = 0.25\r\n",
        "\r\n",
        "for i in range(repTest):\r\n",
        "  Xtreino, Xteste, ytreino, yteste  = train_test_split(X, y, test_size = propTest)\r\n",
        "  \r\n",
        "\r\n",
        "  reg = LinearRegression()\r\n",
        "  reg.fit(Xtreino, ytreino)\r\n",
        "\r\n",
        "  preditos = reg.predict(Xteste)\r\n",
        "\r\n",
        "  eqm = mean_squared_error(yteste, preditos)\r\n",
        "\r\n",
        "  lista.append(eqm)\r\n",
        "\r\n",
        "#Transformado em um tipo dataframe para executar o comando mean\r\n",
        "dfMedia = pd.DataFrame({\"media\": lista})\r\n",
        "\"\"\"print(lista)\r\n",
        "print(dfMedia)\r\n",
        "print(dfMedia.mean())\"\"\"\r\n",
        "\r\n",
        "print (\"A média do EQM foi de {}, considerando a proporção de {} para testes e {} repetições\".format(round(dfMedia['media'].mean(),2), propTest, repTest))\r\n"
      ],
      "execution_count": null,
      "outputs": [
        {
          "output_type": "stream",
          "text": [
            "A média do EQM foi de 50.75, considerando a proporção de 0.25 para testes e 100 repetições\n"
          ],
          "name": "stdout"
        }
      ]
    },
    {
      "cell_type": "code",
      "metadata": {
        "colab": {
          "base_uri": "https://localhost:8080/"
        },
        "id": "XaUr0bWnW6m5",
        "outputId": "d390b9a6-9777-41fb-f726-2e0c94143d13"
      },
      "source": [
        "#Resolução\r\n",
        "R = 100\r\n",
        "eqms = []\r\n",
        "\r\n",
        "for i in range(R):\r\n",
        "  Xtreino, Xteste, ytreino, yteste  = train_test_split(X, y, test_size = propTest)\r\n",
        "  reg = LinearRegression()\r\n",
        "  reg.fit(Xtreino, ytreino)\r\n",
        "  preditos = reg.predict(Xteste)\r\n",
        "  eqm = mean_squared_error(yteste, preditos)\r\n",
        "  eqms.append(eqm)\r\n",
        "\r\n",
        "np.mean(eqms)"
      ],
      "execution_count": null,
      "outputs": [
        {
          "output_type": "execute_result",
          "data": {
            "text/plain": [
              "50.91286016316329"
            ]
          },
          "metadata": {
            "tags": []
          },
          "execution_count": 25
        }
      ]
    },
    {
      "cell_type": "markdown",
      "metadata": {
        "id": "ttk4EAl496gj"
      },
      "source": [
        "---"
      ]
    },
    {
      "cell_type": "code",
      "metadata": {
        "id": "XLMIxRCu953h"
      },
      "source": [
        ""
      ],
      "execution_count": null,
      "outputs": []
    },
    {
      "cell_type": "code",
      "metadata": {
        "id": "vETtJHsx94b-"
      },
      "source": [
        "---"
      ],
      "execution_count": null,
      "outputs": []
    }
  ]
}